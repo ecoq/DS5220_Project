{
 "cells": [
  {
   "cell_type": "code",
   "execution_count": null,
   "id": "7ff3d5b3-5bcf-434f-a117-18dac2554422",
   "metadata": {},
   "outputs": [],
   "source": [
    "import os\n",
    "import tensorflow as tf\n",
    "\n",
    "def check_jpeg_validity(image_paths):\n",
    "    invalid_images = []  # List to store paths of invalid images\n",
    "\n",
    "    for image_path in image_paths:\n",
    "        try:\n",
    "            # Attempt to read and decode the image\n",
    "            img = tf.io.read_file(image_path)\n",
    "            tf.image.decode_jpeg(img, channels=3)  # Try to decode the JPEG image\n",
    "        except Exception as e:\n",
    "            # If an error occurs, log the invalid image path and error\n",
    "            print(f\"Invalid image: {image_path}. Error: {e}\")\n",
    "            invalid_images.append(image_path)\n",
    "\n",
    "    return invalid_images\n",
    "\n",
    "def scan_folders_for_invalid_images(root_folder):\n",
    "    invalid_files = {}\n",
    "\n",
    "    # Walk through the root directory and its subdirectories\n",
    "    for subdir, _, files in os.walk(root_folder):\n",
    "        # Filter out non-image files and check only JPEG files\n",
    "        image_files = [os.path.join(subdir, f) for f in files if f.lower().endswith(('.jpg', '.jpeg'))]\n",
    "\n",
    "        if image_files:  # If there are any image files in the folder\n",
    "            print(f\"Scanning folder: {subdir}\")\n",
    "            # Check validity of JPEG images in the folder\n",
    "            invalid_images = check_jpeg_validity(image_files)\n",
    "            \n",
    "            if invalid_images:\n",
    "                invalid_files[subdir] = invalid_images  # Store the folder and its invalid images\n",
    "    \n",
    "    return invalid_files\n",
    "\n",
    "# Set the root folder path to your dataset directory\n",
    "root_folder = '/Users/elizabethcoquillette/Documents/DS5220/Project/small_animals'\n",
    "\n",
    "# Scan the folders for invalid JPEGs\n",
    "invalid_files = scan_folders_for_invalid_images(root_folder)\n",
    "\n",
    "# Output the result\n",
    "if invalid_files:\n",
    "    print(\"\\nFolders with invalid JPEGs:\")\n",
    "    for folder, invalid_images in invalid_files.items():\n",
    "        print(f\"Folder: {folder}\")\n",
    "        for img in invalid_images:\n",
    "            print(f\"  - {img}\")\n",
    "else:\n",
    "    print(\"No invalid JPEG images found.\")"
   ]
  }
 ],
 "metadata": {
  "kernelspec": {
   "display_name": "Python 3 (ipykernel)",
   "language": "python",
   "name": "python3"
  },
  "language_info": {
   "codemirror_mode": {
    "name": "ipython",
    "version": 3
   },
   "file_extension": ".py",
   "mimetype": "text/x-python",
   "name": "python",
   "nbconvert_exporter": "python",
   "pygments_lexer": "ipython3",
   "version": "3.12.7"
  }
 },
 "nbformat": 4,
 "nbformat_minor": 5
}
