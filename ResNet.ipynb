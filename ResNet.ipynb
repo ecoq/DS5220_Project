{
 "cells": [
  {
   "cell_type": "code",
   "execution_count": 15,
   "id": "035ddb52-6d6a-46ca-bbe8-bb63f4bd981c",
   "metadata": {},
   "outputs": [],
   "source": [
    "import tensorflow as tf\n",
    "import json\n",
    "import os\n",
    "import math\n",
    "from tensorflow.keras import layers, models\n",
    "from sklearn.model_selection import train_test_split\n",
    "from sklearn.metrics import classification_report\n",
    "import glob\n",
    "import numpy as np\n"
   ]
  },
  {
   "cell_type": "code",
   "execution_count": 4,
   "id": "bc36b2ce-4197-478f-ab03-fc1484e0ed0b",
   "metadata": {
    "scrolled": true
   },
   "outputs": [],
   "source": [
    "# DATA MAPPING\n",
    "\n",
    "# Define the folders\n",
    "folders = {\"Blanks\": \"small_animals/Blanks\", \"American_Bullfrog\": \"small_animals/American_Bullfrog\", \n",
    "           \"American_Toad\": \"small_animals/American_Toad\", \"Green_Frog\": \"small_animals/Green_Frog\", \n",
    "           \"Northern_Leopard_Frog\": \"small_animals/Northern_Leopard_Frog\", \"Common_Yellowthroat\": \"small_animals/Common_Yellowthroat\",\n",
    "           \"Eastern_Bluebird\": \"small_animals/Eastern_Bluebird\", \"Gray_Catbird\": \"small_animals/Gray_Catbird\",\n",
    "           \"Indigo_Bunting\": \"small_animals/Indigo_Bunting\", \"Northern_House_Wren\": \"small_animals/Northern_House_Wren\",\n",
    "           \"Song_Sparrow\": \"small_animals/Song_Sparrow\", \"Sora\": \"small_animals/Sora\", \"Invertebrate\": \"small_animals/Invertebrate\",\n",
    "           \"Common_Five-linked_skink\": \"small_animals/Common_Five-linked_skink\", \"American_Mink\": \"small_animals/American_Mink\",\n",
    "           \"Brown_Rat\": \"small_animals/Brown_Rat\", \"Eastern_Chipmunk\": \"small_animals/Eastern_Chipmunk\",\n",
    "           \"Eastern_Cottontail\": \"small_animals/Eastern_Cottontail\", \"Long_tailed_Weasel\": \"small_animals/Long_tailed_Weasel\",\n",
    "           \"Masked_Shrew\": \"small_animals/Masked_Shrew\", \"Meadow_Jumping_Mouse\": \"small_animals/Meadow_Jumping_Mouse\",\n",
    "           \"Meadow_Vole\": \"small_animals/Meadow_Vole\", \"N._Short-tailed_Shrew\": \"small_animals/N._Short-tailed_Shrew\",\n",
    "           \"Raccoon\": \"small_animals/Raccoon\", \"Star-nosed_mole\": \"small_animals/Star-nosed_mole\",\n",
    "           \"Striped_Skunk\": \"small_animals/Striped_Skunk\", \"Virginia_Opossum\": \"small_animals/Virginia_Opossum\",\n",
    "           \"White-footed_Mouse\": \"small_animals/White-footed_Mouse\", \"Woodchuck\": \"small_animals/Woodchuck\",\n",
    "           \"Woodland_Jumping_Mouse\": \"small_animals/Woodland_Jumping_Mouse\", \"Butler's_Gartersnake\": \"small_animals/Butler's_Gartersnake\",\n",
    "           \"Dekay's_Brownsnake\": \"small_animals/Dekay's_Brownsnake\", \"Eastern_Gartersnake\": \"small_animals/Eastern_Gartersnake\",\n",
    "           \"Eastern_Hog-nosed_snake\": \"small_animals/Eastern_Hog-nosed_snake\", \"Eastern_Massasauga\": \"small_animals/Eastern_Massasauga\",\n",
    "           \"Eastern_Milksnake\": \"small_animals/Eastern_Milksnake\", \"Eastern_Racer_Snake\": \"small_animals/Eastern_Racer_Snake\",\n",
    "           \"Eastern_Ribbonsnake\": \"small_animals/Eastern_Ribbonsnake\", \"Gray_Ratsnake\": \"small_animals/Gray_Ratsnake\",\n",
    "           \"Kirtland's_Snake\": \"small_animals/Kirtland's_Snake\", \"Northern_Watersnake\": \"small_animals/Northern_Watersnake\",\n",
    "           \"Plains_Gartersnake\": \"small_animals/Plains_Gartersnake\", \"Red-bellied_Snake\": \"small_animals/Red-bellied_Snake\",\n",
    "           \"Smooth_Greensnake\": \"small_animals/Smooth_Greensnake\", \"Painted_Turtle\": \"small_animals/Painted_Turtle\",\n",
    "           \"Snapping_Turtle\": \"small_animals/Snapping_Turtle\"\n",
    "        }\n",
    "\n",
    "# Define categories\n",
    "blanks = {\"Blanks\"}\n",
    "invertebrates = {\"Invertebrate\"}\n",
    "lizards = {\"Common_Five-linked_skink\"}\n",
    "turtles = {\"Painted_Turtle\", \"Snapping_Turtle\" }\n",
    "amphibians = {\"American_Bullfrog\", \"American_Toad\", \"Green_Frog\", \"Northern_Leopard_Frog\" }\n",
    "birds = {\"Common_Yellowthroat\", \"Eastern_Bluebird\", \"Gray_Catbird\", \"Indigo_Bunting\", \n",
    "         \"Northern_House_Wren\", \"Song_Sparrow\", \"Sora\"}\n",
    "mammals = {\"American_Mink\", \"Brown_Rat\", \"Eastern_Chipmunk\", \"Eastern_Cottontail\", \"Long_tailed_Weasel\",\n",
    "           \"Masked_Shrew\", \"Meadow_Jumping_Mouse\", \"Meadow_Vole\", \"N._Short-tailed_Shrew\", \"Raccoon\", \n",
    "           \"Star-nosed_mole\", \"Striped_Skunk\", \"Virginia_Opossum\", \"White-footed_Mouse\", \"Woodchuck\",\n",
    "           \"Woodland_Jumping_Mouse\" }\n",
    "snakes = {\"Butler's_Gartersnake\", \"Dekay's_Brownsnake\", \"Eastern_Gartersnake\", \"Eastern_Hog-nosed_snake\",\n",
    "          \"Eastern_Massasauga\", \"Eastern_Milksnake\", \"Eastern_Racer_Snake\", \"Eastern_Ribbonsnake\", \n",
    "          \"Gray_Ratsnake\", \"Kirtland's_Snake\", \"Northern_Watersnake\", \"Plains_Gartersnake\", \n",
    "          \"Red-bellied_Snake\", \"Smooth_Greensnake\"}\n",
    "\n",
    "# Dictionary to hold the file paths with their labels\n",
    "file_paths_with_labels = []\n",
    "\n",
    "# Iterate through each folder\n",
    "for label, folder_path in folders.items():\n",
    "    # Get all file paths in the folder\n",
    "    file_paths = glob.glob(os.path.join(folder_path, \"*\"))\n",
    "    \n",
    "    # Append the file paths with their labels\n",
    "    file_paths_with_labels.extend([(file_path, label) for file_path in file_paths])\n"
   ]
  },
  {
   "cell_type": "code",
   "execution_count": 7,
   "id": "846f3e8b-6af1-40ba-a2c3-06baae445dba",
   "metadata": {},
   "outputs": [
    {
     "name": "stdout",
     "output_type": "stream",
     "text": [
      "[('small_animals/Blanks/CBNP1N_2020-09-14_20-27-50.JPG', 'Blanks'), ('small_animals/Blanks/CBNP1S_2020-10-22_10-13-15.JPG', 'Blanks')]\n",
      "[('small_animals/Northern_House_Wren/FCM3__2019-08-29__11-28-44(7).JPG', 'Northern_House_Wren'), ('small_animals/Northern_House_Wren/FCM1__2019-08-18__12-16-28(2).JPG', 'Northern_House_Wren')]\n",
      "[('small_animals/Northern_House_Wren/FCM3__2019-08-29__11-28-44(7).JPG', 'Northern_House_Wren'), ('small_animals/Northern_House_Wren/FCM1__2019-08-18__12-16-28(2).JPG', 'Northern_House_Wren')]\n",
      "[('small_animals/Masked_Shrew/NOR3__2019-06-01__19-29-18(4).JPG', 'Masked_Shrew'), ('small_animals/Masked_Shrew/FCM1__2019-06-14__06-57-41(1).JPG', 'Masked_Shrew')]\n",
      "[('small_animals/Eastern_Gartersnake/NOR3__2019-08-31__16-07-08(5).JPG', 'Eastern_Gartersnake'), ('small_animals/Eastern_Gartersnake/KILC4S__2022-10-03__15-23-57(3)__Thamnophis_sirtalis.JPG', 'Eastern_Gartersnake')]\n"
     ]
    }
   ],
   "source": [
    "# Print sample file paths and labels to ensure correctness\n",
    "\n",
    "print(file_paths_with_labels[1500:1502])\n",
    "print(file_paths_with_labels[15000:15002])\n",
    "print(file_paths_with_labels[15000:15002])\n",
    "print(file_paths_with_labels[50000:50002])\n",
    "print(file_paths_with_labels[100000:100002])"
   ]
  },
  {
   "cell_type": "code",
   "execution_count": null,
   "id": "4a29c159-83f1-4527-abd9-4bd58e4c90c7",
   "metadata": {},
   "outputs": [],
   "source": [
    "# RESNET MODEL HYPERPARAMETERS AND TENSORFLOW DATASET\n",
    "\n",
    "# Define hyperparameters\n",
    "IMG_HEIGHT = 128\n",
    "IMG_WIDTH = 128\n",
    "BATCH_SIZE = 32\n",
    "EPOCHS = 10\n",
    "FINE_TUNE_EPOCHS = 5  # Fine-tuning epochs\n",
    "\n",
    "# Split data into features (file paths) and labels\n",
    "file_paths, labels = zip(*file_paths_with_labels)\n",
    "\n",
    "# Split into training and testing data\n",
    "train_file_paths, test_file_paths, train_labels, test_labels = train_test_split(file_paths, labels, test_size=0.2, random_state=123)\n",
    "\n",
    "print(\"Training set size:\", len(train_file_paths))\n",
    "print(\"Test set size:\", len(test_file_paths))\n",
    "\n",
    "# Calculate steps per epoch, rounding up\n",
    "steps_per_epoch = math.floor(len(train_file_paths) / BATCH_SIZE)\n",
    "\n",
    "# Convert labels to integers using the label map\n",
    "label_map = {label: idx for idx, label in enumerate(set(labels))}\n",
    "train_labels = [label_map[label] for label in train_labels]\n",
    "test_labels = [label_map[label] for label in test_labels]\n",
    "\n",
    "# Create TensorFlow dataset from file paths and labels\n",
    "def create_tf_dataset(file_paths, labels, batch_size):\n",
    "    def parse_image(file_path, label):\n",
    "        try:\n",
    "            # Read the image from file\n",
    "            img = tf.io.read_file(file_path)\n",
    "            # Decode the image\n",
    "            img = tf.image.decode_jpeg(img, channels=3)\n",
    "            # Resize the image to target size\n",
    "            img = tf.image.resize(img, [IMG_HEIGHT, IMG_WIDTH])\n",
    "            # Normalize pixel values to [0, 1]\n",
    "            img = img / 255.0\n",
    "            return img, label\n",
    "        except tf.errors.InvalidArgumentError:\n",
    "            # Log the error and return None to indicate skipping this image\n",
    "            print(f\"Error reading image: {file_path}. Skipping this image.\")\n",
    "            return None  # Indicate this image should be skipped\n",
    "\n",
    "    # Create a TensorFlow dataset\n",
    "    ds = tf.data.Dataset.from_tensor_slices((file_paths, labels))\n",
    "\n",
    "    # Remove invalid images (those that returned None) using the filter meth od\n",
    "    ds = ds.map(parse_image, num_parallel_calls=tf.data.AUTOTUNE)\n",
    "    ds = ds.filter(lambda img, label: img is not None)  # Filter out None images\n",
    "\n",
    "    # Shuffle, batch, and prefetch the dataset\n",
    "    ds = ds.shuffle(buffer_size=1000).batch(batch_size).prefetch(buffer_size=tf.data.AUTOTUNE)\n",
    "    \n",
    "    return ds\n",
    "\n",
    "# Create training and testing datasets\n",
    "train_dataset = create_tf_dataset(train_file_paths, train_labels, BATCH_SIZE)\n",
    "test_dataset = create_tf_dataset(test_file_paths, test_labels, BATCH_SIZE)\n",
    "\n",
    "# Repeats indefinitely to avoid errors\n",
    "train_dataset = train_dataset.repeat()  \n"
   ]
  },
  {
   "cell_type": "code",
   "execution_count": 9,
   "id": "fa52e863-e81d-41c5-b605-e0476658d492",
   "metadata": {},
   "outputs": [
    {
     "name": "stdout",
     "output_type": "stream",
     "text": [
      "Training set size: 92920\n",
      "Test set size: 23230\n",
      "Epoch 1/10\n",
      "\u001b[1m2903/2903\u001b[0m \u001b[32m━━━━━━━━━━━━━━━━━━━━\u001b[0m\u001b[37m\u001b[0m \u001b[1m3943s\u001b[0m 1s/step - accuracy: 0.3441 - loss: 2.2252 - val_accuracy: 0.4764 - val_loss: 1.7732\n",
      "Epoch 2/10\n"
     ]
    },
    {
     "name": "stderr",
     "output_type": "stream",
     "text": [
      "2024-12-08 18:21:17.512619: I tensorflow/core/framework/local_rendezvous.cc:405] Local rendezvous is aborting with status: OUT_OF_RANGE: End of sequence\n",
      "\t [[{{node IteratorGetNext}}]]\n",
      "/opt/anaconda3/lib/python3.12/site-packages/keras/src/trainers/epoch_iterator.py:151: UserWarning: Your input ran out of data; interrupting training. Make sure that your dataset or generator can generate at least `steps_per_epoch * epochs` batches. You may need to use the `.repeat()` function when building your dataset.\n",
      "  self._interrupted_warning()\n"
     ]
    },
    {
     "name": "stdout",
     "output_type": "stream",
     "text": [
      "\u001b[1m2903/2903\u001b[0m \u001b[32m━━━━━━━━━━━━━━━━━━━━\u001b[0m\u001b[37m\u001b[0m \u001b[1m5470s\u001b[0m 2s/step - accuracy: 0.4714 - loss: 1.7764 - val_accuracy: 0.4888 - val_loss: 1.6891\n",
      "Epoch 3/10\n"
     ]
    },
    {
     "name": "stderr",
     "output_type": "stream",
     "text": [
      "2024-12-08 19:52:27.953352: I tensorflow/core/framework/local_rendezvous.cc:405] Local rendezvous is aborting with status: OUT_OF_RANGE: End of sequence\n",
      "\t [[{{node IteratorGetNext}}]]\n"
     ]
    },
    {
     "name": "stdout",
     "output_type": "stream",
     "text": [
      "\u001b[1m2903/2903\u001b[0m \u001b[32m━━━━━━━━━━━━━━━━━━━━\u001b[0m\u001b[37m\u001b[0m \u001b[1m641s\u001b[0m 221ms/step - accuracy: 0.4907 - loss: 1.6752 - val_accuracy: 0.5138 - val_loss: 1.5878\n",
      "Epoch 4/10\n",
      "\u001b[1m2903/2903\u001b[0m \u001b[32m━━━━━━━━━━━━━━━━━━━━\u001b[0m\u001b[37m\u001b[0m \u001b[1m654s\u001b[0m 225ms/step - accuracy: 0.5057 - loss: 1.6060 - val_accuracy: 0.5241 - val_loss: 1.5289\n",
      "Epoch 5/10\n"
     ]
    },
    {
     "name": "stderr",
     "output_type": "stream",
     "text": [
      "2024-12-08 20:14:02.815507: I tensorflow/core/framework/local_rendezvous.cc:405] Local rendezvous is aborting with status: OUT_OF_RANGE: End of sequence\n",
      "\t [[{{node IteratorGetNext}}]]\n"
     ]
    },
    {
     "name": "stdout",
     "output_type": "stream",
     "text": [
      "\u001b[1m2903/2903\u001b[0m \u001b[32m━━━━━━━━━━━━━━━━━━━━\u001b[0m\u001b[37m\u001b[0m \u001b[1m680s\u001b[0m 234ms/step - accuracy: 0.5211 - loss: 1.5540 - val_accuracy: 0.5304 - val_loss: 1.5010\n",
      "Epoch 6/10\n",
      "\u001b[1m2903/2903\u001b[0m \u001b[32m━━━━━━━━━━━━━━━━━━━━\u001b[0m\u001b[37m\u001b[0m \u001b[1m1036s\u001b[0m 357ms/step - accuracy: 0.5318 - loss: 1.5164 - val_accuracy: 0.5483 - val_loss: 1.4696\n",
      "Epoch 7/10\n",
      "\u001b[1m2903/2903\u001b[0m \u001b[32m━━━━━━━━━━━━━━━━━━━━\u001b[0m\u001b[37m\u001b[0m \u001b[1m680s\u001b[0m 234ms/step - accuracy: 0.5425 - loss: 1.4820 - val_accuracy: 0.5621 - val_loss: 1.4314\n",
      "Epoch 8/10\n",
      "\u001b[1m2903/2903\u001b[0m \u001b[32m━━━━━━━━━━━━━━━━━━━━\u001b[0m\u001b[37m\u001b[0m \u001b[1m686s\u001b[0m 236ms/step - accuracy: 0.5522 - loss: 1.4524 - val_accuracy: 0.5614 - val_loss: 1.4154\n",
      "Epoch 9/10\n",
      "\u001b[1m   1/2903\u001b[0m \u001b[37m━━━━━━━━━━━━━━━━━━━━\u001b[0m \u001b[1m7:56\u001b[0m 164ms/step - accuracy: 0.6250 - loss: 1.2455"
     ]
    },
    {
     "name": "stderr",
     "output_type": "stream",
     "text": [
      "2024-12-08 21:05:25.351335: I tensorflow/core/framework/local_rendezvous.cc:405] Local rendezvous is aborting with status: OUT_OF_RANGE: End of sequence\n",
      "\t [[{{node IteratorGetNext}}]]\n"
     ]
    },
    {
     "name": "stdout",
     "output_type": "stream",
     "text": [
      "\u001b[1m2903/2903\u001b[0m \u001b[32m━━━━━━━━━━━━━━━━━━━━\u001b[0m\u001b[37m\u001b[0m \u001b[1m3118s\u001b[0m 1s/step - accuracy: 0.5607 - loss: 1.4291 - val_accuracy: 0.5662 - val_loss: 1.3907\n",
      "Epoch 10/10\n",
      "\u001b[1m2903/2903\u001b[0m \u001b[32m━━━━━━━━━━━━━━━━━━━━\u001b[0m\u001b[37m\u001b[0m \u001b[1m1781s\u001b[0m 614ms/step - accuracy: 0.5671 - loss: 1.4065 - val_accuracy: 0.5778 - val_loss: 1.3859\n",
      "\u001b[1m726/726\u001b[0m \u001b[32m━━━━━━━━━━━━━━━━━━━━\u001b[0m\u001b[37m\u001b[0m \u001b[1m129s\u001b[0m 176ms/step\n"
     ]
    },
    {
     "ename": "NameError",
     "evalue": "name 'np' is not defined",
     "output_type": "error",
     "traceback": [
      "\u001b[0;31m---------------------------------------------------------------------------\u001b[0m",
      "\u001b[0;31mNameError\u001b[0m                                 Traceback (most recent call last)",
      "Cell \u001b[0;32mIn[9], line 101\u001b[0m\n\u001b[1;32m     97\u001b[0m \u001b[38;5;66;03m# Evaluate the model before fine tuning \u001b[39;00m\n\u001b[1;32m     98\u001b[0m \n\u001b[1;32m     99\u001b[0m \u001b[38;5;66;03m# Get predictions for the test dataset\u001b[39;00m\n\u001b[1;32m    100\u001b[0m predictions \u001b[38;5;241m=\u001b[39m model\u001b[38;5;241m.\u001b[39mpredict(test_dataset)\n\u001b[0;32m--> 101\u001b[0m predictions \u001b[38;5;241m=\u001b[39m np\u001b[38;5;241m.\u001b[39margmax(predictions, axis\u001b[38;5;241m=\u001b[39m\u001b[38;5;241m1\u001b[39m)\n\u001b[1;32m    103\u001b[0m \u001b[38;5;66;03m# Get the true labels from the test dataset\u001b[39;00m\n\u001b[1;32m    104\u001b[0m true_labels \u001b[38;5;241m=\u001b[39m np\u001b[38;5;241m.\u001b[39marray(test_labels)\n",
      "\u001b[0;31mNameError\u001b[0m: name 'np' is not defined"
     ]
    }
   ],
   "source": [
    "# RESNET MODEL BEFORE FINE TUNING\n",
    "\n",
    "# Load pre-trained ResNet50 model (without top layer)\n",
    "base_model = tf.keras.applications.ResNet50(\n",
    "    weights='imagenet',  # Load pre-trained weights from ImageNet\n",
    "    include_top=False,   # Do not include the final fully connected layer, because I will add one later\n",
    "    input_shape=(IMG_HEIGHT, IMG_WIDTH, 3)\n",
    ")\n",
    "\n",
    "# Freeze the layers of ResNet50 for first round, before fine tuning\n",
    "base_model.trainable = False\n",
    "\n",
    "# Build the model\n",
    "model = models.Sequential([\n",
    "    base_model,  # Add the pre-trained ResNet50 as the base model\n",
    "    layers.GlobalAveragePooling2D(),  # Add a global average pooling layer\n",
    "    layers.Dense(128, activation='relu'),  # Add a fully connected layer\n",
    "    layers.Dense(len(label_map), activation='softmax')  # Output layer for classification\n",
    "])\n",
    "\n",
    "# Compile the model for the first bit with the frozen layers\n",
    "model.compile(optimizer='adam',\n",
    "              loss='sparse_categorical_crossentropy',\n",
    "              metrics=['accuracy'])\n",
    "\n",
    "# Train the model with the frozen base layers\n",
    "history = model.fit(\n",
    "    train_dataset,\n",
    "    validation_data=test_dataset,\n",
    "    epochs=EPOCHS,\n",
    "    steps_per_epoch=steps_per_epoch\n",
    ")\n",
    "\n"
   ]
  },
  {
   "cell_type": "code",
   "execution_count": 12,
   "id": "9441bc27-ec8b-4e39-a0e8-c57aba4ebd9f",
   "metadata": {
    "scrolled": true
   },
   "outputs": [
    {
     "name": "stdout",
     "output_type": "stream",
     "text": [
      "\u001b[1m726/726\u001b[0m \u001b[32m━━━━━━━━━━━━━━━━━━━━\u001b[0m\u001b[37m\u001b[0m \u001b[1m129s\u001b[0m 176ms/step\n",
      "Classification Report before fine tuning:\n"
     ]
    },
    {
     "ename": "NameError",
     "evalue": "name 'classification_report' is not defined",
     "output_type": "error",
     "traceback": [
      "\u001b[0;31m---------------------------------------------------------------------------\u001b[0m",
      "\u001b[0;31mNameError\u001b[0m                                 Traceback (most recent call last)",
      "Cell \u001b[0;32mIn[12], line 12\u001b[0m\n\u001b[1;32m     10\u001b[0m \u001b[38;5;66;03m# Print classification report\u001b[39;00m\n\u001b[1;32m     11\u001b[0m \u001b[38;5;28mprint\u001b[39m(\u001b[38;5;124m\"\u001b[39m\u001b[38;5;124mClassification Report before fine tuning:\u001b[39m\u001b[38;5;124m\"\u001b[39m)\n\u001b[0;32m---> 12\u001b[0m \u001b[38;5;28mprint\u001b[39m(classification_report(true_labels, predictions, target_names\u001b[38;5;241m=\u001b[39m\u001b[38;5;28mlist\u001b[39m(label_map\u001b[38;5;241m.\u001b[39mkeys())))\n\u001b[1;32m     14\u001b[0m \u001b[38;5;66;03m# Evaluate the model\u001b[39;00m\n\u001b[1;32m     15\u001b[0m test_loss, test_accuracy \u001b[38;5;241m=\u001b[39m model\u001b[38;5;241m.\u001b[39mevaluate(test_dataset)\n",
      "\u001b[0;31mNameError\u001b[0m: name 'classification_report' is not defined"
     ]
    }
   ],
   "source": [
    "# Evaluate the model before fine tuning \n",
    "\n",
    "# Get predictions for the test dataset\n",
    "predictions = model.predict(test_dataset)\n",
    "predictions = np.argmax(predictions, axis=1)\n",
    "\n",
    "# Get the true labels from the test dataset\n",
    "true_labels = np.array(test_labels)\n",
    "\n",
    "# Print classification report\n",
    "print(\"Classification Report before fine tuning:\")\n",
    "print(classification_report(true_labels, predictions, target_names=list(label_map.keys())))\n",
    "\n",
    "# Evaluate the model\n",
    "test_loss, test_accuracy = model.evaluate(test_dataset)\n",
    "print(f\"Test Accuracy before fine tuning: {test_accuracy:.2f}\")\n",
    "\n"
   ]
  },
  {
   "cell_type": "code",
   "execution_count": 17,
   "id": "789ea35b-25ba-4873-acd6-ad2be8ca91eb",
   "metadata": {},
   "outputs": [
    {
     "name": "stdout",
     "output_type": "stream",
     "text": [
      "Classification Report before fine tuning:\n",
      "                          precision    recall  f1-score   support\n",
      "\n",
      "    Butler's_Gartersnake       0.00      0.00      0.00        26\n",
      "              Green_Frog       0.00      0.00      0.00        15\n",
      "            Masked_Shrew       0.02      0.01      0.01       837\n",
      "          Indigo_Bunting       0.00      0.00      0.00         7\n",
      "      Plains_Gartersnake       0.00      0.00      0.00       237\n",
      "       Smooth_Greensnake       0.00      0.00      0.00        33\n",
      "       Eastern_Milksnake       0.00      0.00      0.00        10\n",
      "Common_Five-linked_skink       0.04      0.03      0.03      1003\n",
      "               Woodchuck       0.00      0.00      0.00         9\n",
      "     Eastern_Ribbonsnake       0.00      0.00      0.00        24\n",
      " Eastern_Hog-nosed_snake       0.00      0.00      0.00        12\n",
      "      Dekay's_Brownsnake       0.00      0.00      0.00        92\n",
      "     Northern_House_Wren       0.05      0.11      0.07      1207\n",
      "        Virginia_Opossum       1.00      0.01      0.01       183\n",
      "                  Blanks       0.09      0.11      0.10      2353\n",
      "           American_Mink       0.00      0.00      0.00        76\n",
      "     Northern_Watersnake       0.00      0.00      0.00        27\n",
      "            Invertebrate       0.06      0.01      0.01       997\n",
      "             Meadow_Vole       0.13      0.15      0.14      2824\n",
      "     Common_Yellowthroat       0.00      0.00      0.00       151\n",
      "                 Raccoon       0.00      0.00      0.00        10\n",
      "           Striped_Skunk       0.00      0.00      0.00        24\n",
      "      White-footed_Mouse       0.10      0.13      0.11      2107\n",
      "            Song_Sparrow       0.13      0.16      0.14      2984\n",
      "    Meadow_Jumping_Mouse       0.00      0.00      0.00        27\n",
      "      Eastern_Massasauga       0.00      0.00      0.00       254\n",
      "           American_Toad       0.00      0.00      0.00        75\n",
      "         Star-nosed_mole       0.00      0.00      0.00        23\n",
      "      Eastern_Cottontail       0.03      0.04      0.03       630\n",
      "           Gray_Ratsnake       0.00      0.00      0.00        10\n",
      "     Eastern_Racer_Snake       0.00      0.00      0.00        60\n",
      "  Woodland_Jumping_Mouse       0.00      0.00      0.00       321\n",
      "        Kirtland's_Snake       0.00      0.00      0.00         8\n",
      "                    Sora       0.00      0.00      0.00         2\n",
      "   N._Short-tailed_Shrew       0.00      0.00      0.00       153\n",
      "        Eastern_Chipmunk       0.00      0.00      0.00        32\n",
      "     Eastern_Gartersnake       0.27      0.27      0.27      6355\n",
      "   Northern_Leopard_Frog       0.00      0.00      0.00        32\n",
      "\n",
      "                accuracy                           0.14     23230\n",
      "               macro avg       0.05      0.03      0.02     23230\n",
      "            weighted avg       0.14      0.14      0.13     23230\n",
      "\n"
     ]
    },
    {
     "name": "stderr",
     "output_type": "stream",
     "text": [
      "/opt/anaconda3/lib/python3.12/site-packages/sklearn/metrics/_classification.py:1531: UndefinedMetricWarning: Precision is ill-defined and being set to 0.0 in labels with no predicted samples. Use `zero_division` parameter to control this behavior.\n",
      "  _warn_prf(average, modifier, f\"{metric.capitalize()} is\", len(result))\n",
      "/opt/anaconda3/lib/python3.12/site-packages/sklearn/metrics/_classification.py:1531: UndefinedMetricWarning: Precision is ill-defined and being set to 0.0 in labels with no predicted samples. Use `zero_division` parameter to control this behavior.\n",
      "  _warn_prf(average, modifier, f\"{metric.capitalize()} is\", len(result))\n",
      "/opt/anaconda3/lib/python3.12/site-packages/sklearn/metrics/_classification.py:1531: UndefinedMetricWarning: Precision is ill-defined and being set to 0.0 in labels with no predicted samples. Use `zero_division` parameter to control this behavior.\n",
      "  _warn_prf(average, modifier, f\"{metric.capitalize()} is\", len(result))\n"
     ]
    },
    {
     "name": "stdout",
     "output_type": "stream",
     "text": [
      "\u001b[1m726/726\u001b[0m \u001b[32m━━━━━━━━━━━━━━━━━━━━\u001b[0m\u001b[37m\u001b[0m \u001b[1m128s\u001b[0m 175ms/step - accuracy: 0.5806 - loss: 1.3757\n",
      "Test Accuracy before fine tuning: 0.58\n",
      "Epoch 1/5\n"
     ]
    },
    {
     "name": "stderr",
     "output_type": "stream",
     "text": [
      "/opt/anaconda3/lib/python3.12/site-packages/keras/src/trainers/epoch_iterator.py:151: UserWarning: Your input ran out of data; interrupting training. Make sure that your dataset or generator can generate at least `steps_per_epoch * epochs` batches. You may need to use the `.repeat()` function when building your dataset.\n",
      "  self._interrupted_warning()\n"
     ]
    },
    {
     "name": "stdout",
     "output_type": "stream",
     "text": [
      "\u001b[1m2903/2903\u001b[0m \u001b[32m━━━━━━━━━━━━━━━━━━━━\u001b[0m\u001b[37m\u001b[0m \u001b[1m2138s\u001b[0m 735ms/step - accuracy: 0.5423 - loss: 3.3560 - val_accuracy: 0.6606 - val_loss: 1.1561\n",
      "Epoch 2/5\n",
      "\u001b[1m2903/2903\u001b[0m \u001b[32m━━━━━━━━━━━━━━━━━━━━\u001b[0m\u001b[37m\u001b[0m \u001b[1m926s\u001b[0m 319ms/step - accuracy: 0.6719 - loss: 1.1287 - val_accuracy: 0.7051 - val_loss: 1.0133\n",
      "Epoch 3/5\n",
      "\u001b[1m2903/2903\u001b[0m \u001b[32m━━━━━━━━━━━━━━━━━━━━\u001b[0m\u001b[37m\u001b[0m \u001b[1m929s\u001b[0m 320ms/step - accuracy: 0.7032 - loss: 1.0049 - val_accuracy: 0.7158 - val_loss: 0.9713\n",
      "Epoch 4/5\n"
     ]
    },
    {
     "name": "stderr",
     "output_type": "stream",
     "text": [
      "2024-12-08 23:41:44.519588: I tensorflow/core/framework/local_rendezvous.cc:405] Local rendezvous is aborting with status: OUT_OF_RANGE: End of sequence\n",
      "\t [[{{node IteratorGetNext}}]]\n"
     ]
    },
    {
     "name": "stdout",
     "output_type": "stream",
     "text": [
      "\u001b[1m2903/2903\u001b[0m \u001b[32m━━━━━━━━━━━━━━━━━━━━\u001b[0m\u001b[37m\u001b[0m \u001b[1m4242s\u001b[0m 1s/step - accuracy: 0.7278 - loss: 0.9055 - val_accuracy: 0.7367 - val_loss: 0.8935\n",
      "Epoch 5/5\n",
      "\u001b[1m2903/2903\u001b[0m \u001b[32m━━━━━━━━━━━━━━━━━━━━\u001b[0m\u001b[37m\u001b[0m \u001b[1m10964s\u001b[0m 4s/step - accuracy: 0.7513 - loss: 0.8248 - val_accuracy: 0.7238 - val_loss: 0.9375\n",
      "\u001b[1m726/726\u001b[0m \u001b[32m━━━━━━━━━━━━━━━━━━━━\u001b[0m\u001b[37m\u001b[0m \u001b[1m159s\u001b[0m 216ms/step\n",
      "Classification Report after fine tuning:\n",
      "                          precision    recall  f1-score   support\n",
      "\n",
      "    Butler's_Gartersnake       0.00      0.00      0.00        26\n",
      "              Green_Frog       0.00      0.00      0.00        15\n",
      "            Masked_Shrew       0.06      0.02      0.03       837\n",
      "          Indigo_Bunting       0.00      0.00      0.00         7\n",
      "      Plains_Gartersnake       0.01      0.00      0.01       237\n",
      "       Smooth_Greensnake       0.00      0.00      0.00        33\n",
      "       Eastern_Milksnake       0.00      0.00      0.00        10\n",
      "Common_Five-linked_skink       0.04      0.05      0.04      1003\n",
      "               Woodchuck       0.00      0.00      0.00         9\n",
      "     Eastern_Ribbonsnake       0.00      0.00      0.00        24\n",
      " Eastern_Hog-nosed_snake       0.00      0.00      0.00        12\n",
      "      Dekay's_Brownsnake       0.00      0.00      0.00        92\n",
      "     Northern_House_Wren       0.05      0.04      0.04      1207\n",
      "        Virginia_Opossum       0.01      0.01      0.01       183\n",
      "                  Blanks       0.10      0.12      0.11      2353\n",
      "           American_Mink       0.00      0.00      0.00        76\n",
      "     Northern_Watersnake       0.00      0.00      0.00        27\n",
      "            Invertebrate       0.04      0.00      0.01       997\n",
      "             Meadow_Vole       0.13      0.22      0.16      2824\n",
      "     Common_Yellowthroat       0.00      0.00      0.00       151\n",
      "                 Raccoon       0.00      0.00      0.00        10\n",
      "           Striped_Skunk       0.00      0.00      0.00        24\n",
      "      White-footed_Mouse       0.10      0.13      0.11      2107\n",
      "            Song_Sparrow       0.14      0.11      0.12      2984\n",
      "    Meadow_Jumping_Mouse       0.00      0.00      0.00        27\n",
      "      Eastern_Massasauga       0.00      0.00      0.00       254\n",
      "           American_Toad       0.00      0.00      0.00        75\n",
      "         Star-nosed_mole       0.00      0.00      0.00        23\n",
      "      Eastern_Cottontail       0.01      0.01      0.01       630\n",
      "           Gray_Ratsnake       0.00      0.00      0.00        10\n",
      "     Eastern_Racer_Snake       0.00      0.00      0.00        60\n",
      "  Woodland_Jumping_Mouse       0.00      0.00      0.00       321\n",
      "        Kirtland's_Snake       0.00      0.00      0.00         8\n",
      "                    Sora       0.00      0.00      0.00         2\n",
      "   N._Short-tailed_Shrew       0.00      0.00      0.00       153\n",
      "        Eastern_Chipmunk       0.00      0.00      0.00        32\n",
      "     Eastern_Gartersnake       0.27      0.30      0.29      6355\n",
      "   Northern_Leopard_Frog       0.00      0.00      0.00        32\n",
      "\n",
      "                accuracy                           0.15     23230\n",
      "               macro avg       0.03      0.03      0.02     23230\n",
      "            weighted avg       0.14      0.15      0.14     23230\n",
      "\n"
     ]
    },
    {
     "name": "stderr",
     "output_type": "stream",
     "text": [
      "/opt/anaconda3/lib/python3.12/site-packages/sklearn/metrics/_classification.py:1531: UndefinedMetricWarning: Precision is ill-defined and being set to 0.0 in labels with no predicted samples. Use `zero_division` parameter to control this behavior.\n",
      "  _warn_prf(average, modifier, f\"{metric.capitalize()} is\", len(result))\n",
      "/opt/anaconda3/lib/python3.12/site-packages/sklearn/metrics/_classification.py:1531: UndefinedMetricWarning: Precision is ill-defined and being set to 0.0 in labels with no predicted samples. Use `zero_division` parameter to control this behavior.\n",
      "  _warn_prf(average, modifier, f\"{metric.capitalize()} is\", len(result))\n",
      "/opt/anaconda3/lib/python3.12/site-packages/sklearn/metrics/_classification.py:1531: UndefinedMetricWarning: Precision is ill-defined and being set to 0.0 in labels with no predicted samples. Use `zero_division` parameter to control this behavior.\n",
      "  _warn_prf(average, modifier, f\"{metric.capitalize()} is\", len(result))\n"
     ]
    },
    {
     "name": "stdout",
     "output_type": "stream",
     "text": [
      "\u001b[1m726/726\u001b[0m \u001b[32m━━━━━━━━━━━━━━━━━━━━\u001b[0m\u001b[37m\u001b[0m \u001b[1m1082s\u001b[0m 1s/step - accuracy: 0.7233 - loss: 0.9408\n",
      "Test Accuracy after fine tuning: 0.72\n"
     ]
    },
    {
     "name": "stderr",
     "output_type": "stream",
     "text": [
      "/opt/anaconda3/lib/python3.12/site-packages/keras/src/trainers/epoch_iterator.py:151: UserWarning: Your input ran out of data; interrupting training. Make sure that your dataset or generator can generate at least `steps_per_epoch * epochs` batches. You may need to use the `.repeat()` function when building your dataset.\n",
      "  self._interrupted_warning()\n"
     ]
    },
    {
     "ename": "NameError",
     "evalue": "name 'tensorflow' is not defined",
     "output_type": "error",
     "traceback": [
      "\u001b[0;31m---------------------------------------------------------------------------\u001b[0m",
      "\u001b[0;31mNameError\u001b[0m                                 Traceback (most recent call last)",
      "Cell \u001b[0;32mIn[17], line 48\u001b[0m\n\u001b[1;32m     45\u001b[0m \u001b[38;5;28mprint\u001b[39m(\u001b[38;5;124mf\u001b[39m\u001b[38;5;124m\"\u001b[39m\u001b[38;5;124mTest Accuracy after fine tuning: \u001b[39m\u001b[38;5;132;01m{\u001b[39;00mtest_accuracy\u001b[38;5;132;01m:\u001b[39;00m\u001b[38;5;124m.2f\u001b[39m\u001b[38;5;132;01m}\u001b[39;00m\u001b[38;5;124m\"\u001b[39m)\n\u001b[1;32m     47\u001b[0m \u001b[38;5;66;03m# Save the model\u001b[39;00m\n\u001b[0;32m---> 48\u001b[0m tensorflow\u001b[38;5;241m.\u001b[39mkeras\u001b[38;5;241m.\u001b[39mmodels\u001b[38;5;241m.\u001b[39msave_model(model, \u001b[38;5;124m'\u001b[39m\u001b[38;5;124mResNet_model.keras\u001b[39m\u001b[38;5;124m'\u001b[39m)\n",
      "\u001b[0;31mNameError\u001b[0m: name 'tensorflow' is not defined"
     ]
    }
   ],
   "source": [
    "# FIRST ROUND OF FINE TUNING\n",
    "\n",
    "# Unfreeze the top layers of the ResNet50 model for fine-tuning\n",
    "base_model.trainable = True\n",
    "\n",
    "# Unfreeze only the last 25 layers\n",
    "for layer in base_model.layers[:-25]:\n",
    "    layer.trainable = False\n",
    "\n",
    "# Re-compile the model with a smaller learning rate for fine-tuning\n",
    "model.compile(optimizer=tf.keras.optimizers.Adam(learning_rate=1e-5),\n",
    "              loss='sparse_categorical_crossentropy',\n",
    "              metrics=['accuracy'])\n",
    "\n",
    "# Continue training the model with fine-tuning\n",
    "history_finetune = model.fit(\n",
    "    train_dataset,\n",
    "    validation_data=test_dataset,\n",
    "    epochs=FINE_TUNE_EPOCHS,  # Fine-tune for additional epochs\n",
    "    steps_per_epoch=steps_per_epoch\n",
    ")\n",
    "\n",
    "# Evaluate the model after fine tuning \n",
    "\n",
    "# Get predictions for the test dataset\n",
    "predictions = model.predict(test_dataset)\n",
    "predictions = np.argmax(predictions, axis=1)\n",
    "\n",
    "# Get the true labels from the test dataset\n",
    "true_labels = np.array(test_labels)\n",
    "\n",
    "# Print classification report\n",
    "print(\"Classification Report after fine tuning:\")\n",
    "print(classification_report(true_labels, predictions, target_names=list(label_map.keys())))\n",
    "\n",
    "# Evaluate the model\n",
    "test_loss, test_accuracy = model.evaluate(test_dataset)\n",
    "print(f\"Test Accuracy after fine tuning: {test_accuracy:.2f}\")\n",
    "\n",
    "# Save the model\n",
    "tf.keras.models.save_model(model, 'ResNet_model.keras')\n"
   ]
  },
  {
   "cell_type": "code",
   "execution_count": 20,
   "id": "748336eb-bf5c-4405-b396-33ad1d22f367",
   "metadata": {},
   "outputs": [],
   "source": [
    "# Save the model\n",
    "tf.keras.models.save_model(model, 'ResNet_model.keras')\n"
   ]
  },
  {
   "cell_type": "code",
   "execution_count": 22,
   "id": "80d7e08b-030d-475a-a277-762d99197502",
   "metadata": {},
   "outputs": [
    {
     "name": "stdout",
     "output_type": "stream",
     "text": [
      "Epoch 1/5\n",
      "\u001b[1m2903/2903\u001b[0m \u001b[32m━━━━━━━━━━━━━━━━━━━━\u001b[0m\u001b[37m\u001b[0m \u001b[1m1074s\u001b[0m 369ms/step - accuracy: 0.7698 - loss: 0.7560 - val_accuracy: 0.7569 - val_loss: 0.8526\n",
      "Epoch 2/5\n",
      "\u001b[1m2903/2903\u001b[0m \u001b[32m━━━━━━━━━━━━━━━━━━━━\u001b[0m\u001b[37m\u001b[0m \u001b[1m1903s\u001b[0m 655ms/step - accuracy: 0.7883 - loss: 0.6890 - val_accuracy: 0.7497 - val_loss: 0.8022\n",
      "Epoch 3/5\n",
      "\u001b[1m2903/2903\u001b[0m \u001b[32m━━━━━━━━━━━━━━━━━━━━\u001b[0m\u001b[37m\u001b[0m \u001b[1m941s\u001b[0m 324ms/step - accuracy: 0.8019 - loss: 0.6361 - val_accuracy: 0.8026 - val_loss: 0.6741\n",
      "Epoch 4/5\n",
      "\u001b[1m2903/2903\u001b[0m \u001b[32m━━━━━━━━━━━━━━━━━━━━\u001b[0m\u001b[37m\u001b[0m \u001b[1m947s\u001b[0m 326ms/step - accuracy: 0.8135 - loss: 0.5965 - val_accuracy: 0.7994 - val_loss: 0.6688\n",
      "Epoch 5/5\n",
      "\u001b[1m2903/2903\u001b[0m \u001b[32m━━━━━━━━━━━━━━━━━━━━\u001b[0m\u001b[37m\u001b[0m \u001b[1m955s\u001b[0m 329ms/step - accuracy: 0.8267 - loss: 0.5474 - val_accuracy: 0.8046 - val_loss: 0.6682\n",
      "\u001b[1m726/726\u001b[0m \u001b[32m━━━━━━━━━━━━━━━━━━━━\u001b[0m\u001b[37m\u001b[0m \u001b[1m134s\u001b[0m 182ms/step\n",
      "Classification Report after fine tuning:\n",
      "                          precision    recall  f1-score   support\n",
      "\n",
      "    Butler's_Gartersnake       0.00      0.00      0.00        26\n",
      "              Green_Frog       0.00      0.00      0.00        15\n",
      "            Masked_Shrew       0.03      0.02      0.03       837\n",
      "          Indigo_Bunting       0.00      0.00      0.00         7\n",
      "      Plains_Gartersnake       0.01      0.01      0.01       237\n",
      "       Smooth_Greensnake       0.00      0.00      0.00        33\n",
      "       Eastern_Milksnake       0.00      0.00      0.00        10\n",
      "Common_Five-linked_skink       0.04      0.04      0.04      1003\n",
      "               Woodchuck       0.00      0.00      0.00         9\n",
      "     Eastern_Ribbonsnake       0.00      0.00      0.00        24\n",
      " Eastern_Hog-nosed_snake       0.00      0.00      0.00        12\n",
      "      Dekay's_Brownsnake       0.00      0.00      0.00        92\n",
      "     Northern_House_Wren       0.04      0.03      0.04      1207\n",
      "        Virginia_Opossum       0.01      0.01      0.01       183\n",
      "                  Blanks       0.11      0.11      0.11      2353\n",
      "           American_Mink       0.00      0.00      0.00        76\n",
      "     Northern_Watersnake       0.00      0.00      0.00        27\n",
      "            Invertebrate       0.03      0.02      0.03       997\n",
      "             Meadow_Vole       0.12      0.12      0.12      2824\n",
      "     Common_Yellowthroat       0.02      0.01      0.02       151\n",
      "                 Raccoon       0.00      0.00      0.00        10\n",
      "           Striped_Skunk       0.00      0.00      0.00        24\n",
      "      White-footed_Mouse       0.09      0.12      0.10      2107\n",
      "            Song_Sparrow       0.13      0.13      0.13      2984\n",
      "    Meadow_Jumping_Mouse       0.00      0.00      0.00        27\n",
      "      Eastern_Massasauga       0.01      0.00      0.00       254\n",
      "           American_Toad       0.00      0.00      0.00        75\n",
      "         Star-nosed_mole       0.00      0.00      0.00        23\n",
      "      Eastern_Cottontail       0.03      0.03      0.03       630\n",
      "           Gray_Ratsnake       0.00      0.00      0.00        10\n",
      "     Eastern_Racer_Snake       0.00      0.00      0.00        60\n",
      "  Woodland_Jumping_Mouse       0.01      0.00      0.00       321\n",
      "        Kirtland's_Snake       0.00      0.00      0.00         8\n",
      "                    Sora       0.00      0.00      0.00         2\n",
      "   N._Short-tailed_Shrew       0.00      0.00      0.00       153\n",
      "        Eastern_Chipmunk       0.00      0.00      0.00        32\n",
      "     Eastern_Gartersnake       0.28      0.34      0.31      6355\n",
      "   Northern_Leopard_Frog       0.00      0.00      0.00        32\n",
      "\n",
      "                accuracy                           0.15     23230\n",
      "               macro avg       0.03      0.03      0.03     23230\n",
      "            weighted avg       0.13      0.15      0.14     23230\n",
      "\n"
     ]
    },
    {
     "name": "stderr",
     "output_type": "stream",
     "text": [
      "/opt/anaconda3/lib/python3.12/site-packages/sklearn/metrics/_classification.py:1531: UndefinedMetricWarning: Precision is ill-defined and being set to 0.0 in labels with no predicted samples. Use `zero_division` parameter to control this behavior.\n",
      "  _warn_prf(average, modifier, f\"{metric.capitalize()} is\", len(result))\n",
      "/opt/anaconda3/lib/python3.12/site-packages/sklearn/metrics/_classification.py:1531: UndefinedMetricWarning: Precision is ill-defined and being set to 0.0 in labels with no predicted samples. Use `zero_division` parameter to control this behavior.\n",
      "  _warn_prf(average, modifier, f\"{metric.capitalize()} is\", len(result))\n",
      "/opt/anaconda3/lib/python3.12/site-packages/sklearn/metrics/_classification.py:1531: UndefinedMetricWarning: Precision is ill-defined and being set to 0.0 in labels with no predicted samples. Use `zero_division` parameter to control this behavior.\n",
      "  _warn_prf(average, modifier, f\"{metric.capitalize()} is\", len(result))\n"
     ]
    },
    {
     "name": "stdout",
     "output_type": "stream",
     "text": [
      "\u001b[1m726/726\u001b[0m \u001b[32m━━━━━━━━━━━━━━━━━━━━\u001b[0m\u001b[37m\u001b[0m \u001b[1m132s\u001b[0m 180ms/step - accuracy: 0.8101 - loss: 0.6560\n",
      "Test Accuracy after fine tuning: 0.80\n"
     ]
    },
    {
     "name": "stderr",
     "output_type": "stream",
     "text": [
      "/opt/anaconda3/lib/python3.12/site-packages/keras/src/trainers/epoch_iterator.py:151: UserWarning: Your input ran out of data; interrupting training. Make sure that your dataset or generator can generate at least `steps_per_epoch * epochs` batches. You may need to use the `.repeat()` function when building your dataset.\n",
      "  self._interrupted_warning()\n"
     ]
    }
   ],
   "source": [
    "# SECOND ROUND OF FINE TUNING\n",
    "\n",
    "# Unfreeze the top layers of the ResNet50 model for fine-tuning\n",
    "base_model.trainable = True\n",
    "\n",
    "# Unfreeze only the last 50 layers\n",
    "for layer in base_model.layers[:-50]:\n",
    "    layer.trainable = False\n",
    "\n",
    "# Re-compile the model with a smaller learning rate for fine-tuning\n",
    "model.compile(optimizer=tf.keras.optimizers.Adam(learning_rate=1e-5),\n",
    "              loss='sparse_categorical_crossentropy',\n",
    "              metrics=['accuracy'])\n",
    "\n",
    "# Continue training the model with fine-tuning\n",
    "history_finetune = model.fit(\n",
    "    train_dataset,\n",
    "    validation_data=test_dataset,\n",
    "    epochs=FINE_TUNE_EPOCHS,  # Fine-tune for additional epochs\n",
    "    steps_per_epoch=steps_per_epoch\n",
    ")\n",
    "\n",
    "# Evaluate the model after fine tuning \n",
    "\n",
    "# Get predictions for the test dataset\n",
    "predictions = model.predict(test_dataset)\n",
    "predictions = np.argmax(predictions, axis=1)\n",
    "\n",
    "# Get the true labels from the test dataset\n",
    "true_labels = np.array(test_labels)\n",
    "\n",
    "# Print classification report\n",
    "print(\"Classification Report after fine tuning:\")\n",
    "print(classification_report(true_labels, predictions, target_names=list(label_map.keys())))\n",
    "\n",
    "# Evaluate the model\n",
    "test_loss, test_accuracy = model.evaluate(test_dataset)\n",
    "print(f\"Test Accuracy after fine tuning: {test_accuracy:.2f}\")\n",
    "\n",
    "# Save the model\n",
    "tf.keras.models.save_model(model, 'ResNet_model.keras')"
   ]
  },
  {
   "cell_type": "code",
   "execution_count": 24,
   "id": "b161bb42-b973-4aab-97ff-1a7f57cf8e4e",
   "metadata": {},
   "outputs": [
    {
     "name": "stdout",
     "output_type": "stream",
     "text": [
      "Epoch 1/5\n",
      "\u001b[1m2903/2903\u001b[0m \u001b[32m━━━━━━━━━━━━━━━━━━━━\u001b[0m\u001b[37m\u001b[0m \u001b[1m891s\u001b[0m 306ms/step - accuracy: 0.8365 - loss: 0.5155 - val_accuracy: 0.8144 - val_loss: 0.6229\n",
      "Epoch 2/5\n",
      "\u001b[1m2903/2903\u001b[0m \u001b[32m━━━━━━━━━━━━━━━━━━━━\u001b[0m\u001b[37m\u001b[0m \u001b[1m2156s\u001b[0m 743ms/step - accuracy: 0.8460 - loss: 0.4831 - val_accuracy: 0.8269 - val_loss: 0.5927\n",
      "Epoch 3/5\n",
      "\u001b[1m2903/2903\u001b[0m \u001b[32m━━━━━━━━━━━━━━━━━━━━\u001b[0m\u001b[37m\u001b[0m \u001b[1m915s\u001b[0m 315ms/step - accuracy: 0.8569 - loss: 0.4502 - val_accuracy: 0.8207 - val_loss: 0.5985\n",
      "Epoch 4/5\n",
      "\u001b[1m2903/2903\u001b[0m \u001b[32m━━━━━━━━━━━━━━━━━━━━\u001b[0m\u001b[37m\u001b[0m \u001b[1m926s\u001b[0m 319ms/step - accuracy: 0.8644 - loss: 0.4234 - val_accuracy: 0.8347 - val_loss: 0.5606\n",
      "Epoch 5/5\n",
      "\u001b[1m2903/2903\u001b[0m \u001b[32m━━━━━━━━━━━━━━━━━━━━\u001b[0m\u001b[37m\u001b[0m \u001b[1m1602s\u001b[0m 552ms/step - accuracy: 0.8728 - loss: 0.3976 - val_accuracy: 0.8392 - val_loss: 0.5373\n"
     ]
    },
    {
     "name": "stderr",
     "output_type": "stream",
     "text": [
      "2024-12-09 13:30:12.236484: I tensorflow/core/framework/local_rendezvous.cc:405] Local rendezvous is aborting with status: OUT_OF_RANGE: End of sequence\n",
      "\t [[{{node IteratorGetNext}}]]\n"
     ]
    },
    {
     "name": "stdout",
     "output_type": "stream",
     "text": [
      "\u001b[1m726/726\u001b[0m \u001b[32m━━━━━━━━━━━━━━━━━━━━\u001b[0m\u001b[37m\u001b[0m \u001b[1m129s\u001b[0m 175ms/step\n",
      "Classification Report after fine tuning:\n",
      "                          precision    recall  f1-score   support\n",
      "\n",
      "    Butler's_Gartersnake       0.00      0.00      0.00        26\n",
      "              Green_Frog       0.00      0.00      0.00        15\n",
      "            Masked_Shrew       0.05      0.05      0.05       837\n",
      "          Indigo_Bunting       0.00      0.00      0.00         7\n",
      "      Plains_Gartersnake       0.01      0.00      0.01       237\n",
      "       Smooth_Greensnake       0.00      0.00      0.00        33\n",
      "       Eastern_Milksnake       0.00      0.00      0.00        10\n",
      "Common_Five-linked_skink       0.04      0.04      0.04      1003\n",
      "               Woodchuck       0.00      0.00      0.00         9\n",
      "     Eastern_Ribbonsnake       0.00      0.00      0.00        24\n",
      " Eastern_Hog-nosed_snake       0.00      0.00      0.00        12\n",
      "      Dekay's_Brownsnake       0.00      0.00      0.00        92\n",
      "     Northern_House_Wren       0.06      0.06      0.06      1207\n",
      "        Virginia_Opossum       0.01      0.01      0.01       183\n",
      "                  Blanks       0.09      0.09      0.09      2353\n",
      "           American_Mink       0.00      0.00      0.00        76\n",
      "     Northern_Watersnake       0.00      0.00      0.00        27\n",
      "            Invertebrate       0.05      0.03      0.04       997\n",
      "             Meadow_Vole       0.12      0.15      0.13      2824\n",
      "     Common_Yellowthroat       0.02      0.01      0.02       151\n",
      "                 Raccoon       0.00      0.00      0.00        10\n",
      "           Striped_Skunk       0.00      0.00      0.00        24\n",
      "      White-footed_Mouse       0.08      0.07      0.07      2107\n",
      "            Song_Sparrow       0.13      0.13      0.13      2984\n",
      "    Meadow_Jumping_Mouse       0.00      0.00      0.00        27\n",
      "      Eastern_Massasauga       0.01      0.01      0.01       254\n",
      "           American_Toad       0.01      0.01      0.01        75\n",
      "         Star-nosed_mole       0.00      0.00      0.00        23\n",
      "      Eastern_Cottontail       0.03      0.04      0.03       630\n",
      "           Gray_Ratsnake       0.00      0.00      0.00        10\n",
      "     Eastern_Racer_Snake       0.02      0.02      0.02        60\n",
      "  Woodland_Jumping_Mouse       0.02      0.01      0.01       321\n",
      "        Kirtland's_Snake       0.00      0.00      0.00         8\n",
      "                    Sora       0.00      0.00      0.00         2\n",
      "   N._Short-tailed_Shrew       0.00      0.00      0.00       153\n",
      "        Eastern_Chipmunk       0.00      0.00      0.00        32\n",
      "     Eastern_Gartersnake       0.28      0.30      0.29      6355\n",
      "   Northern_Leopard_Frog       0.00      0.00      0.00        32\n",
      "\n",
      "                accuracy                           0.14     23230\n",
      "               macro avg       0.03      0.03      0.03     23230\n",
      "            weighted avg       0.13      0.14      0.14     23230\n",
      "\n"
     ]
    },
    {
     "name": "stderr",
     "output_type": "stream",
     "text": [
      "/opt/anaconda3/lib/python3.12/site-packages/sklearn/metrics/_classification.py:1531: UndefinedMetricWarning: Precision is ill-defined and being set to 0.0 in labels with no predicted samples. Use `zero_division` parameter to control this behavior.\n",
      "  _warn_prf(average, modifier, f\"{metric.capitalize()} is\", len(result))\n",
      "/opt/anaconda3/lib/python3.12/site-packages/sklearn/metrics/_classification.py:1531: UndefinedMetricWarning: Precision is ill-defined and being set to 0.0 in labels with no predicted samples. Use `zero_division` parameter to control this behavior.\n",
      "  _warn_prf(average, modifier, f\"{metric.capitalize()} is\", len(result))\n",
      "/opt/anaconda3/lib/python3.12/site-packages/sklearn/metrics/_classification.py:1531: UndefinedMetricWarning: Precision is ill-defined and being set to 0.0 in labels with no predicted samples. Use `zero_division` parameter to control this behavior.\n",
      "  _warn_prf(average, modifier, f\"{metric.capitalize()} is\", len(result))\n"
     ]
    },
    {
     "name": "stdout",
     "output_type": "stream",
     "text": [
      "\u001b[1m726/726\u001b[0m \u001b[32m━━━━━━━━━━━━━━━━━━━━\u001b[0m\u001b[37m\u001b[0m \u001b[1m130s\u001b[0m 178ms/step - accuracy: 0.8414 - loss: 0.5341\n",
      "Test Accuracy after fine tuning: 0.84\n"
     ]
    },
    {
     "name": "stderr",
     "output_type": "stream",
     "text": [
      "/opt/anaconda3/lib/python3.12/site-packages/keras/src/trainers/epoch_iterator.py:151: UserWarning: Your input ran out of data; interrupting training. Make sure that your dataset or generator can generate at least `steps_per_epoch * epochs` batches. You may need to use the `.repeat()` function when building your dataset.\n",
      "  self._interrupted_warning()\n"
     ]
    }
   ],
   "source": [
    "# THIRD ROUND OF FINE TUNING\n",
    "\n",
    "# Unfreeze the top layers of the ResNet50 model for fine-tuning\n",
    "base_model.trainable = True\n",
    "\n",
    "# Unfreeze only the last 100 layers\n",
    "for layer in base_model.layers[:-100]:\n",
    "    layer.trainable = False\n",
    "\n",
    "# Re-compile the model with a smaller learning rate for fine-tuning\n",
    "model.compile(optimizer=tf.keras.optimizers.Adam(learning_rate=1e-5),\n",
    "              loss='sparse_categorical_crossentropy',\n",
    "              metrics=['accuracy'])\n",
    "\n",
    "# Continue training the model with fine-tuning\n",
    "history_finetune = model.fit(\n",
    "    train_dataset,\n",
    "    validation_data=test_dataset,\n",
    "    epochs=FINE_TUNE_EPOCHS,  # Fine-tune for additional epochs\n",
    "    steps_per_epoch=steps_per_epoch\n",
    ")\n",
    "\n",
    "# Evaluate the model after fine tuning \n",
    "\n",
    "# Get predictions for the test dataset\n",
    "predictions = model.predict(test_dataset)\n",
    "predictions = np.argmax(predictions, axis=1)\n",
    "\n",
    "# Get the true labels from the test dataset\n",
    "true_labels = np.array(test_labels)\n",
    "\n",
    "# Print classification report\n",
    "print(\"Classification Report after fine tuning:\")\n",
    "print(classification_report(true_labels, predictions, target_names=list(label_map.keys())))\n",
    "\n",
    "# Evaluate the model\n",
    "test_loss, test_accuracy = model.evaluate(test_dataset)\n",
    "print(f\"Test Accuracy after fine tuning: {test_accuracy:.2f}\")\n",
    "\n",
    "# Save the model\n",
    "tf.keras.models.save_model(model, 'ResNet_model.keras')"
   ]
  },
  {
   "cell_type": "code",
   "execution_count": 26,
   "id": "960ad422-6549-4f10-9d8d-3ec7cb66d245",
   "metadata": {},
   "outputs": [
    {
     "name": "stdout",
     "output_type": "stream",
     "text": [
      "Epoch 1/5\n",
      "\u001b[1m2903/2903\u001b[0m \u001b[32m━━━━━━━━━━━━━━━━━━━━\u001b[0m\u001b[37m\u001b[0m \u001b[1m911s\u001b[0m 312ms/step - accuracy: 0.8776 - loss: 0.3762 - val_accuracy: 0.8449 - val_loss: 0.5109\n",
      "Epoch 2/5\n",
      "\u001b[1m2903/2903\u001b[0m \u001b[32m━━━━━━━━━━━━━━━━━━━━\u001b[0m\u001b[37m\u001b[0m \u001b[1m929s\u001b[0m 320ms/step - accuracy: 0.8846 - loss: 0.3544 - val_accuracy: 0.8423 - val_loss: 0.5148\n",
      "Epoch 3/5\n",
      "\u001b[1m2903/2903\u001b[0m \u001b[32m━━━━━━━━━━━━━━━━━━━━\u001b[0m\u001b[37m\u001b[0m \u001b[1m1494s\u001b[0m 515ms/step - accuracy: 0.8925 - loss: 0.3326 - val_accuracy: 0.8415 - val_loss: 0.5646\n",
      "Epoch 4/5\n",
      "\u001b[1m2903/2903\u001b[0m \u001b[32m━━━━━━━━━━━━━━━━━━━━\u001b[0m\u001b[37m\u001b[0m \u001b[1m909s\u001b[0m 313ms/step - accuracy: 0.8962 - loss: 0.3158 - val_accuracy: 0.8256 - val_loss: 0.5937\n",
      "Epoch 5/5\n",
      "\u001b[1m2903/2903\u001b[0m \u001b[32m━━━━━━━━━━━━━━━━━━━━\u001b[0m\u001b[37m\u001b[0m \u001b[1m1543s\u001b[0m 532ms/step - accuracy: 0.9013 - loss: 0.2992 - val_accuracy: 0.8517 - val_loss: 0.5197\n",
      "\u001b[1m726/726\u001b[0m \u001b[32m━━━━━━━━━━━━━━━━━━━━\u001b[0m\u001b[37m\u001b[0m \u001b[1m131s\u001b[0m 178ms/step\n",
      "Classification Report after fine tuning:\n",
      "                          precision    recall  f1-score   support\n",
      "\n",
      "    Butler's_Gartersnake       0.00      0.00      0.00        26\n",
      "              Green_Frog       0.00      0.00      0.00        15\n",
      "            Masked_Shrew       0.04      0.04      0.04       837\n",
      "          Indigo_Bunting       0.00      0.00      0.00         7\n",
      "      Plains_Gartersnake       0.01      0.00      0.01       237\n",
      "       Smooth_Greensnake       0.00      0.00      0.00        33\n",
      "       Eastern_Milksnake       0.00      0.00      0.00        10\n",
      "Common_Five-linked_skink       0.04      0.03      0.04      1003\n",
      "               Woodchuck       0.00      0.00      0.00         9\n",
      "     Eastern_Ribbonsnake       0.00      0.00      0.00        24\n",
      " Eastern_Hog-nosed_snake       0.00      0.00      0.00        12\n",
      "      Dekay's_Brownsnake       0.00      0.00      0.00        92\n",
      "     Northern_House_Wren       0.06      0.06      0.06      1207\n",
      "        Virginia_Opossum       0.00      0.01      0.00       183\n",
      "                  Blanks       0.10      0.10      0.10      2353\n",
      "           American_Mink       0.00      0.00      0.00        76\n",
      "     Northern_Watersnake       0.00      0.00      0.00        27\n",
      "            Invertebrate       0.04      0.03      0.04       997\n",
      "             Meadow_Vole       0.13      0.14      0.13      2824\n",
      "     Common_Yellowthroat       0.01      0.01      0.01       151\n",
      "                 Raccoon       0.00      0.00      0.00        10\n",
      "           Striped_Skunk       0.00      0.00      0.00        24\n",
      "      White-footed_Mouse       0.10      0.09      0.09      2107\n",
      "            Song_Sparrow       0.13      0.12      0.12      2984\n",
      "    Meadow_Jumping_Mouse       0.00      0.00      0.00        27\n",
      "      Eastern_Massasauga       0.02      0.02      0.02       254\n",
      "           American_Toad       0.00      0.00      0.00        75\n",
      "         Star-nosed_mole       0.00      0.00      0.00        23\n",
      "      Eastern_Cottontail       0.04      0.04      0.04       630\n",
      "           Gray_Ratsnake       0.00      0.00      0.00        10\n",
      "     Eastern_Racer_Snake       0.00      0.00      0.00        60\n",
      "  Woodland_Jumping_Mouse       0.01      0.00      0.00       321\n",
      "        Kirtland's_Snake       0.00      0.00      0.00         8\n",
      "                    Sora       0.00      0.00      0.00         2\n",
      "   N._Short-tailed_Shrew       0.00      0.00      0.00       153\n",
      "        Eastern_Chipmunk       0.00      0.00      0.00        32\n",
      "     Eastern_Gartersnake       0.28      0.31      0.29      6355\n",
      "   Northern_Leopard_Frog       0.00      0.00      0.00        32\n",
      "\n",
      "                accuracy                           0.15     23230\n",
      "               macro avg       0.03      0.03      0.03     23230\n",
      "            weighted avg       0.14      0.15      0.14     23230\n",
      "\n"
     ]
    },
    {
     "name": "stderr",
     "output_type": "stream",
     "text": [
      "/opt/anaconda3/lib/python3.12/site-packages/sklearn/metrics/_classification.py:1531: UndefinedMetricWarning: Precision is ill-defined and being set to 0.0 in labels with no predicted samples. Use `zero_division` parameter to control this behavior.\n",
      "  _warn_prf(average, modifier, f\"{metric.capitalize()} is\", len(result))\n",
      "/opt/anaconda3/lib/python3.12/site-packages/sklearn/metrics/_classification.py:1531: UndefinedMetricWarning: Precision is ill-defined and being set to 0.0 in labels with no predicted samples. Use `zero_division` parameter to control this behavior.\n",
      "  _warn_prf(average, modifier, f\"{metric.capitalize()} is\", len(result))\n",
      "/opt/anaconda3/lib/python3.12/site-packages/sklearn/metrics/_classification.py:1531: UndefinedMetricWarning: Precision is ill-defined and being set to 0.0 in labels with no predicted samples. Use `zero_division` parameter to control this behavior.\n",
      "  _warn_prf(average, modifier, f\"{metric.capitalize()} is\", len(result))\n"
     ]
    },
    {
     "name": "stdout",
     "output_type": "stream",
     "text": [
      "\u001b[1m726/726\u001b[0m \u001b[32m━━━━━━━━━━━━━━━━━━━━\u001b[0m\u001b[37m\u001b[0m \u001b[1m201s\u001b[0m 275ms/step - accuracy: 0.8553 - loss: 0.5146\n",
      "Test Accuracy after fine tuning: 0.85\n"
     ]
    },
    {
     "name": "stderr",
     "output_type": "stream",
     "text": [
      "/opt/anaconda3/lib/python3.12/site-packages/keras/src/trainers/epoch_iterator.py:151: UserWarning: Your input ran out of data; interrupting training. Make sure that your dataset or generator can generate at least `steps_per_epoch * epochs` batches. You may need to use the `.repeat()` function when building your dataset.\n",
      "  self._interrupted_warning()\n"
     ]
    }
   ],
   "source": [
    "# FOURTH ROUND OF FINE TUNING\n",
    "\n",
    "# Unfreeze the top layers of the ResNet50 model for fine-tuning\n",
    "base_model.trainable = True\n",
    "\n",
    "# Unfreeze only the last 200 layers\n",
    "for layer in base_model.layers[:-200]:\n",
    "    layer.trainable = False\n",
    "\n",
    "# Re-compile the model with a smaller learning rate for fine-tuning\n",
    "model.compile(optimizer=tf.keras.optimizers.Adam(learning_rate=1e-5),\n",
    "              loss='sparse_categorical_crossentropy',\n",
    "              metrics=['accuracy'])\n",
    "\n",
    "# Continue training the model with fine-tuning\n",
    "history_finetune = model.fit(\n",
    "    train_dataset,\n",
    "    validation_data=test_dataset,\n",
    "    epochs=FINE_TUNE_EPOCHS,  # Fine-tune for additional epochs\n",
    "    steps_per_epoch=steps_per_epoch\n",
    ")\n",
    "\n",
    "# Evaluate the model after fine tuning \n",
    "\n",
    "# Get predictions for the test dataset\n",
    "predictions = model.predict(test_dataset)\n",
    "predictions = np.argmax(predictions, axis=1)\n",
    "\n",
    "# Get the true labels from the test dataset\n",
    "true_labels = np.array(test_labels)\n",
    "\n",
    "# Print classification report\n",
    "print(\"Classification Report after fine tuning:\")\n",
    "print(classification_report(true_labels, predictions, target_names=list(label_map.keys())))\n",
    "\n",
    "# Evaluate the model\n",
    "test_loss, test_accuracy = model.evaluate(test_dataset)\n",
    "print(f\"Test Accuracy after fine tuning: {test_accuracy:.2f}\")\n",
    "\n",
    "# Save the model\n",
    "tf.keras.models.save_model(model, 'ResNet_model.keras')"
   ]
  },
  {
   "cell_type": "code",
   "execution_count": null,
   "id": "eef84375-d437-4d00-8e82-306badb8c56d",
   "metadata": {},
   "outputs": [],
   "source": []
  }
 ],
 "metadata": {
  "kernelspec": {
   "display_name": "Python 3 (ipykernel)",
   "language": "python",
   "name": "python3"
  },
  "language_info": {
   "codemirror_mode": {
    "name": "ipython",
    "version": 3
   },
   "file_extension": ".py",
   "mimetype": "text/x-python",
   "name": "python",
   "nbconvert_exporter": "python",
   "pygments_lexer": "ipython3",
   "version": "3.12.7"
  }
 },
 "nbformat": 4,
 "nbformat_minor": 5
}
